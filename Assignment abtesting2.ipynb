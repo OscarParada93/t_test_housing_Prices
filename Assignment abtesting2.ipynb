{
 "cells": [
  {
   "cell_type": "markdown",
   "metadata": {},
   "source": [
    "---\n",
    "\n",
    "_You are currently looking at **version 1.1** of this notebook. To download notebooks and datafiles, as well as get help on Jupyter notebooks in the Coursera platform, visit the [Jupyter Notebook FAQ](https://www.coursera.org/learn/python-data-analysis/resources/0dhYG) course resource._\n",
    "\n",
    "---"
   ]
  },
  {
   "cell_type": "code",
   "execution_count": 1,
   "metadata": {},
   "outputs": [],
   "source": [
    "import pandas as pd\n",
    "import numpy as np\n",
    "from scipy.stats import ttest_ind"
   ]
  },
  {
   "cell_type": "markdown",
   "metadata": {},
   "source": [
    "# Assignment 4 - Hypothesis Testing\n",
    "This assignment requires more individual learning than previous assignments - you are encouraged to check out the [pandas documentation](http://pandas.pydata.org/pandas-docs/stable/) to find functions or methods you might not have used yet, or ask questions on [Stack Overflow](http://stackoverflow.com/) and tag them as pandas and python related. And of course, the discussion forums are open for interaction with your peers and the course staff.\n",
    "\n",
    "Definitions:\n",
    "* A _quarter_ is a specific three month period, Q1 is January through March, Q2 is April through June, Q3 is July through September, Q4 is October through December.\n",
    "* A _recession_ is defined as starting with two consecutive quarters of GDP decline, and ending with two consecutive quarters of GDP growth.\n",
    "* A _recession bottom_ is the quarter within a recession which had the lowest GDP.\n",
    "* A _university town_ is a city which has a high percentage of university students compared to the total population of the city.\n",
    "\n",
    "**Hypothesis**: University towns have their mean housing prices less effected by recessions. Run a t-test to compare the ratio of the mean price of houses in university towns the quarter before the recession starts compared to the recession bottom. (`price_ratio=quarter_before_recession/recession_bottom`)\n",
    "\n",
    "The following data files are available for this assignment:\n",
    "* From the [Zillow research data site](http://www.zillow.com/research/data/) there is housing data for the United States. In particular the datafile for [all homes at a city level](http://files.zillowstatic.com/research/public/City/City_Zhvi_AllHomes.csv), ```City_Zhvi_AllHomes.csv```, has median home sale prices at a fine grained level.\n",
    "* From the Wikipedia page on college towns is a list of [university towns in the United States](https://en.wikipedia.org/wiki/List_of_college_towns#College_towns_in_the_United_States) which has been copy and pasted into the file ```university_towns.txt```.\n",
    "* From Bureau of Economic Analysis, US Department of Commerce, the [GDP over time](http://www.bea.gov/national/index.htm#gdp) of the United States in current dollars (use the chained value in 2009 dollars), in quarterly intervals, in the file ```gdplev.xls```. For this assignment, only look at GDP data from the first quarter of 2000 onward.\n",
    "\n",
    "Each function in this assignment below is worth 10%, with the exception of ```run_ttest()```, which is worth 50%."
   ]
  },
  {
   "cell_type": "code",
   "execution_count": 2,
   "metadata": {},
   "outputs": [],
   "source": [
    "# Use this dictionary to map state names to two letter acronyms\n",
    "states = {'OH': 'Ohio', 'KY': 'Kentucky', 'AS': 'American Samoa', 'NV': 'Nevada', 'WY': 'Wyoming', 'NA': 'National', 'AL': 'Alabama', 'MD': 'Maryland', 'AK': 'Alaska', 'UT': 'Utah', 'OR': 'Oregon', 'MT': 'Montana', 'IL': 'Illinois', 'TN': 'Tennessee', 'DC': 'District of Columbia', 'VT': 'Vermont', 'ID': 'Idaho', 'AR': 'Arkansas', 'ME': 'Maine', 'WA': 'Washington', 'HI': 'Hawaii', 'WI': 'Wisconsin', 'MI': 'Michigan', 'IN': 'Indiana', 'NJ': 'New Jersey', 'AZ': 'Arizona', 'GU': 'Guam', 'MS': 'Mississippi', 'PR': 'Puerto Rico', 'NC': 'North Carolina', 'TX': 'Texas', 'SD': 'South Dakota', 'MP': 'Northern Mariana Islands', 'IA': 'Iowa', 'MO': 'Missouri', 'CT': 'Connecticut', 'WV': 'West Virginia', 'SC': 'South Carolina', 'LA': 'Louisiana', 'KS': 'Kansas', 'NY': 'New York', 'NE': 'Nebraska', 'OK': 'Oklahoma', 'FL': 'Florida', 'CA': 'California', 'CO': 'Colorado', 'PA': 'Pennsylvania', 'DE': 'Delaware', 'NM': 'New Mexico', 'RI': 'Rhode Island', 'MN': 'Minnesota', 'VI': 'Virgin Islands', 'NH': 'New Hampshire', 'MA': 'Massachusetts', 'GA': 'Georgia', 'ND': 'North Dakota', 'VA': 'Virginia'}"
   ]
  },
  {
   "cell_type": "code",
   "execution_count": 1,
   "metadata": {},
   "outputs": [
    {
     "data": {
      "text/html": [
       "<div>\n",
       "<style scoped>\n",
       "    .dataframe tbody tr th:only-of-type {\n",
       "        vertical-align: middle;\n",
       "    }\n",
       "\n",
       "    .dataframe tbody tr th {\n",
       "        vertical-align: top;\n",
       "    }\n",
       "\n",
       "    .dataframe thead th {\n",
       "        text-align: right;\n",
       "    }\n",
       "</style>\n",
       "<table border=\"1\" class=\"dataframe\">\n",
       "  <thead>\n",
       "    <tr style=\"text-align: right;\">\n",
       "      <th></th>\n",
       "      <th>State</th>\n",
       "      <th>RegionName</th>\n",
       "    </tr>\n",
       "  </thead>\n",
       "  <tbody>\n",
       "    <tr>\n",
       "      <th>0</th>\n",
       "      <td>Alabama</td>\n",
       "      <td>Auburn</td>\n",
       "    </tr>\n",
       "    <tr>\n",
       "      <th>1</th>\n",
       "      <td>Alabama</td>\n",
       "      <td>Florence</td>\n",
       "    </tr>\n",
       "    <tr>\n",
       "      <th>2</th>\n",
       "      <td>Alabama</td>\n",
       "      <td>Jacksonville</td>\n",
       "    </tr>\n",
       "    <tr>\n",
       "      <th>3</th>\n",
       "      <td>Alabama</td>\n",
       "      <td>Livingston</td>\n",
       "    </tr>\n",
       "    <tr>\n",
       "      <th>4</th>\n",
       "      <td>Alabama</td>\n",
       "      <td>Montevallo</td>\n",
       "    </tr>\n",
       "    <tr>\n",
       "      <th>...</th>\n",
       "      <td>...</td>\n",
       "      <td>...</td>\n",
       "    </tr>\n",
       "    <tr>\n",
       "      <th>512</th>\n",
       "      <td>Wisconsin</td>\n",
       "      <td>River Falls</td>\n",
       "    </tr>\n",
       "    <tr>\n",
       "      <th>513</th>\n",
       "      <td>Wisconsin</td>\n",
       "      <td>Stevens Point</td>\n",
       "    </tr>\n",
       "    <tr>\n",
       "      <th>514</th>\n",
       "      <td>Wisconsin</td>\n",
       "      <td>Waukesha</td>\n",
       "    </tr>\n",
       "    <tr>\n",
       "      <th>515</th>\n",
       "      <td>Wisconsin</td>\n",
       "      <td>Whitewater</td>\n",
       "    </tr>\n",
       "    <tr>\n",
       "      <th>516</th>\n",
       "      <td>Wyoming</td>\n",
       "      <td>Laramie</td>\n",
       "    </tr>\n",
       "  </tbody>\n",
       "</table>\n",
       "<p>517 rows × 2 columns</p>\n",
       "</div>"
      ],
      "text/plain": [
       "         State     RegionName\n",
       "0      Alabama         Auburn\n",
       "1      Alabama       Florence\n",
       "2      Alabama   Jacksonville\n",
       "3      Alabama     Livingston\n",
       "4      Alabama     Montevallo\n",
       "..         ...            ...\n",
       "512  Wisconsin    River Falls\n",
       "513  Wisconsin  Stevens Point\n",
       "514  Wisconsin       Waukesha\n",
       "515  Wisconsin     Whitewater\n",
       "516    Wyoming        Laramie\n",
       "\n",
       "[517 rows x 2 columns]"
      ]
     },
     "execution_count": 1,
     "metadata": {},
     "output_type": "execute_result"
    }
   ],
   "source": [
    "def get_list_of_university_towns():\n",
    "    '''Returns a DataFrame of towns and the states they are in from the \n",
    "    university_towns.txt list. The format of the DataFrame should be:\n",
    "    DataFrame( [ [\"Michigan\", \"Ann Arbor\"], [\"Michigan\", \"Yipsilanti\"] ], \n",
    "    columns=[\"State\", \"RegionName\"]  )\n",
    "    \n",
    "    The following cleaning needs to be done:\n",
    "\n",
    "    1. For \"State\", removing characters from \"[\" to the end.\n",
    "    2. For \"RegionName\", when applicable, removing every character from \" (\" to the end.\n",
    "    3. Depending on how you read the data, you may need to remove newline character '\\n'. '''\n",
    "    import pandas as pd\n",
    "    import numpy as np\n",
    "    Cityu = pd.read_csv('university_towns.txt', sep=\";\", names=['RegionName'])\n",
    "    Cityu.insert(0, 'State', Cityu['RegionName'].str.extract('(.*)\\[edit\\]', expand=False).ffill())\n",
    "    Cityu['RegionName'] = Cityu['RegionName'].str.replace(r' \\(.+$', '')\n",
    "    Cityu = Cityu[~Cityu['RegionName'].str.contains('\\[edit\\]')].reset_index(drop=True)\n",
    "    return Cityu\n",
    "get_list_of_university_towns()"
   ]
  },
  {
   "cell_type": "code",
   "execution_count": 2,
   "metadata": {},
   "outputs": [
    {
     "data": {
      "text/plain": [
       "'2008q3'"
      ]
     },
     "execution_count": 2,
     "metadata": {},
     "output_type": "execute_result"
    }
   ],
   "source": [
    "def get_recession_start():\n",
    "    '''Returns the year and quarter of the recession start time as a \n",
    "    string value in a format such as 2005q3'''\n",
    "    import pandas as pd\n",
    "    import numpy as np\n",
    "    file = 'gdplev.xls'\n",
    "    df = pd.read_excel(file,skiprows = 5, na_values = ['...']).drop(['Unnamed: 3','Unnamed: 7'],axis=1)\n",
    "    df = df.rename(columns ={'GDP in billions of current dollars':'GDP','GDP in billions of chained 2009 dollars':'GDP_2009','Unnamed: 0':'Year','Unnamed: 4':'Qs','GDP in billions of current dollars.1':'GDP1','GDP in billions of chained 2009 dollars.1':'GDP1_2009'})\n",
    "    df['Recesion'] = np.where((df['GDP1'].shift(4) > df['GDP1'].shift(3)) & (df['GDP1'].shift(3) > df['GDP1'].shift(2)) & (df['GDP1'].shift(2) < df['GDP1'].shift(1)) & (df['GDP1'].shift(1) < df['GDP1'].shift(0)),df['Qs'].shift(5),\"No\")\n",
    "    return df['Recesion'][df['Recesion'] != 'No'].values[2]\n",
    "get_recession_start()"
   ]
  },
  {
   "cell_type": "code",
   "execution_count": 17,
   "metadata": {},
   "outputs": [
    {
     "data": {
      "text/plain": [
       "'2009q4'"
      ]
     },
     "execution_count": 17,
     "metadata": {},
     "output_type": "execute_result"
    }
   ],
   "source": [
    "def get_recession_end():\n",
    "    '''Returns the year and quarter of the recession end time as a \n",
    "    string value in a format such as 2005q3'''\n",
    "    import pandas as pd\n",
    "    import numpy as np\n",
    "    file = 'gdplev.xls'\n",
    "    df = pd.read_excel(file,skiprows = 5, na_values = ['...']).drop(['Unnamed: 3','Unnamed: 7'],axis=1)\n",
    "    df = df.rename(columns ={'GDP in billions of current dollars':'GDP','GDP in billions of chained 2009 dollars':'GDP_2009','Unnamed: 0':'Year','Unnamed: 4':'Qs','GDP in billions of current dollars.1':'GDP1','GDP in billions of chained 2009 dollars.1':'GDP1_2009'})\n",
    "    df['Recesion'] = np.where((df['GDP1'].shift(4) > df['GDP1'].shift(3)) & (df['GDP1'].shift(3) > df['GDP1'].shift(2)) & (df['GDP1'].shift(2) < df['GDP1'].shift(1)) & (df['GDP1'].shift(1) < df['GDP1'].shift(0)),df['Qs'],\"No\")\n",
    "    return df['Recesion'][df['Recesion'] != 'No'].values[2]\n",
    "get_recession_end()"
   ]
  },
  {
   "cell_type": "code",
   "execution_count": 3,
   "metadata": {
    "scrolled": true
   },
   "outputs": [
    {
     "data": {
      "text/plain": [
       "'2009q2'"
      ]
     },
     "execution_count": 3,
     "metadata": {},
     "output_type": "execute_result"
    }
   ],
   "source": [
    "def get_recession_bottom():\n",
    "    '''Returns the year and quarter of the recession bottom time as a \n",
    "    string value in a format such as 2005q3'''\n",
    "    import pandas as pd\n",
    "    import numpy as np\n",
    "    file = 'gdplev.xls'\n",
    "    df = pd.read_excel(file,skiprows = 5, na_values = ['...']).drop(['Unnamed: 3','Unnamed: 7'],axis=1)\n",
    "    df = df.rename(columns ={'GDP in billions of current dollars':'GDP','GDP in billions of chained 2009 dollars':'GDP_2009','Unnamed: 0':'Year','Unnamed: 4':'Qs','GDP in billions of current dollars.1':'GDP1','GDP in billions of chained 2009 dollars.1':'GDP1_2009'})\n",
    "    df['Recesion'] = np.where((df['GDP1'].shift(4) > df['GDP1'].shift(3)) & (df['GDP1'].shift(3) > df['GDP1'].shift(2)) & (df['GDP1'].shift(2) < df['GDP1'].shift(1)) & (df['GDP1'].shift(1) < df['GDP1'].shift(0)),df['Qs'].shift(2),\"No\")\n",
    "    return df['Recesion'][df['Recesion'] != 'No'].values[2]\n",
    "get_recession_bottom()"
   ]
  },
  {
   "cell_type": "code",
   "execution_count": 1,
   "metadata": {},
   "outputs": [
    {
     "ename": "FileNotFoundError",
     "evalue": "[Errno 2] File City_Zhvi_AllHomes.csv does not exist: 'City_Zhvi_AllHomes.csv'",
     "output_type": "error",
     "traceback": [
      "\u001b[0;31m---------------------------------------------------------------------------\u001b[0m",
      "\u001b[0;31mFileNotFoundError\u001b[0m                         Traceback (most recent call last)",
      "\u001b[0;32m<ipython-input-1-70dd07035cf5>\u001b[0m in \u001b[0;36m<module>\u001b[0;34m\u001b[0m\n\u001b[1;32m     20\u001b[0m     \u001b[0mdf\u001b[0m   \u001b[0;34m=\u001b[0m \u001b[0mdf\u001b[0m\u001b[0;34m.\u001b[0m\u001b[0msort_index\u001b[0m\u001b[0;34m(\u001b[0m\u001b[0;34m)\u001b[0m\u001b[0;34m\u001b[0m\u001b[0;34m\u001b[0m\u001b[0m\n\u001b[1;32m     21\u001b[0m     \u001b[0;32mreturn\u001b[0m \u001b[0mdf\u001b[0m\u001b[0;34m\u001b[0m\u001b[0;34m\u001b[0m\u001b[0m\n\u001b[0;32m---> 22\u001b[0;31m \u001b[0mconvert_housing_data_to_quarters\u001b[0m\u001b[0;34m(\u001b[0m\u001b[0;34m)\u001b[0m\u001b[0;34m\u001b[0m\u001b[0;34m\u001b[0m\u001b[0m\n\u001b[0m",
      "\u001b[0;32m<ipython-input-1-70dd07035cf5>\u001b[0m in \u001b[0;36mconvert_housing_data_to_quarters\u001b[0;34m()\u001b[0m\n\u001b[1;32m     13\u001b[0m     \u001b[0mstates\u001b[0m \u001b[0;34m=\u001b[0m \u001b[0;34m{\u001b[0m\u001b[0;34m'OH'\u001b[0m\u001b[0;34m:\u001b[0m \u001b[0;34m'Ohio'\u001b[0m\u001b[0;34m,\u001b[0m \u001b[0;34m'KY'\u001b[0m\u001b[0;34m:\u001b[0m \u001b[0;34m'Kentucky'\u001b[0m\u001b[0;34m,\u001b[0m \u001b[0;34m'AS'\u001b[0m\u001b[0;34m:\u001b[0m \u001b[0;34m'American Samoa'\u001b[0m\u001b[0;34m,\u001b[0m \u001b[0;34m'NV'\u001b[0m\u001b[0;34m:\u001b[0m \u001b[0;34m'Nevada'\u001b[0m\u001b[0;34m,\u001b[0m \u001b[0;34m'WY'\u001b[0m\u001b[0;34m:\u001b[0m \u001b[0;34m'Wyoming'\u001b[0m\u001b[0;34m,\u001b[0m \u001b[0;34m'NA'\u001b[0m\u001b[0;34m:\u001b[0m \u001b[0;34m'National'\u001b[0m\u001b[0;34m,\u001b[0m \u001b[0;34m'AL'\u001b[0m\u001b[0;34m:\u001b[0m \u001b[0;34m'Alabama'\u001b[0m\u001b[0;34m,\u001b[0m \u001b[0;34m'MD'\u001b[0m\u001b[0;34m:\u001b[0m \u001b[0;34m'Maryland'\u001b[0m\u001b[0;34m,\u001b[0m \u001b[0;34m'AK'\u001b[0m\u001b[0;34m:\u001b[0m \u001b[0;34m'Alaska'\u001b[0m\u001b[0;34m,\u001b[0m \u001b[0;34m'UT'\u001b[0m\u001b[0;34m:\u001b[0m \u001b[0;34m'Utah'\u001b[0m\u001b[0;34m,\u001b[0m \u001b[0;34m'OR'\u001b[0m\u001b[0;34m:\u001b[0m \u001b[0;34m'Oregon'\u001b[0m\u001b[0;34m,\u001b[0m \u001b[0;34m'MT'\u001b[0m\u001b[0;34m:\u001b[0m \u001b[0;34m'Montana'\u001b[0m\u001b[0;34m,\u001b[0m \u001b[0;34m'IL'\u001b[0m\u001b[0;34m:\u001b[0m \u001b[0;34m'Illinois'\u001b[0m\u001b[0;34m,\u001b[0m \u001b[0;34m'TN'\u001b[0m\u001b[0;34m:\u001b[0m \u001b[0;34m'Tennessee'\u001b[0m\u001b[0;34m,\u001b[0m \u001b[0;34m'DC'\u001b[0m\u001b[0;34m:\u001b[0m \u001b[0;34m'District of Columbia'\u001b[0m\u001b[0;34m,\u001b[0m \u001b[0;34m'VT'\u001b[0m\u001b[0;34m:\u001b[0m \u001b[0;34m'Vermont'\u001b[0m\u001b[0;34m,\u001b[0m \u001b[0;34m'ID'\u001b[0m\u001b[0;34m:\u001b[0m \u001b[0;34m'Idaho'\u001b[0m\u001b[0;34m,\u001b[0m \u001b[0;34m'AR'\u001b[0m\u001b[0;34m:\u001b[0m \u001b[0;34m'Arkansas'\u001b[0m\u001b[0;34m,\u001b[0m \u001b[0;34m'ME'\u001b[0m\u001b[0;34m:\u001b[0m \u001b[0;34m'Maine'\u001b[0m\u001b[0;34m,\u001b[0m \u001b[0;34m'WA'\u001b[0m\u001b[0;34m:\u001b[0m \u001b[0;34m'Washington'\u001b[0m\u001b[0;34m,\u001b[0m \u001b[0;34m'HI'\u001b[0m\u001b[0;34m:\u001b[0m \u001b[0;34m'Hawaii'\u001b[0m\u001b[0;34m,\u001b[0m \u001b[0;34m'WI'\u001b[0m\u001b[0;34m:\u001b[0m \u001b[0;34m'Wisconsin'\u001b[0m\u001b[0;34m,\u001b[0m \u001b[0;34m'MI'\u001b[0m\u001b[0;34m:\u001b[0m \u001b[0;34m'Michigan'\u001b[0m\u001b[0;34m,\u001b[0m \u001b[0;34m'IN'\u001b[0m\u001b[0;34m:\u001b[0m \u001b[0;34m'Indiana'\u001b[0m\u001b[0;34m,\u001b[0m \u001b[0;34m'NJ'\u001b[0m\u001b[0;34m:\u001b[0m \u001b[0;34m'New Jersey'\u001b[0m\u001b[0;34m,\u001b[0m \u001b[0;34m'AZ'\u001b[0m\u001b[0;34m:\u001b[0m \u001b[0;34m'Arizona'\u001b[0m\u001b[0;34m,\u001b[0m \u001b[0;34m'GU'\u001b[0m\u001b[0;34m:\u001b[0m \u001b[0;34m'Guam'\u001b[0m\u001b[0;34m,\u001b[0m \u001b[0;34m'MS'\u001b[0m\u001b[0;34m:\u001b[0m \u001b[0;34m'Mississippi'\u001b[0m\u001b[0;34m,\u001b[0m \u001b[0;34m'PR'\u001b[0m\u001b[0;34m:\u001b[0m \u001b[0;34m'Puerto Rico'\u001b[0m\u001b[0;34m,\u001b[0m \u001b[0;34m'NC'\u001b[0m\u001b[0;34m:\u001b[0m \u001b[0;34m'North Carolina'\u001b[0m\u001b[0;34m,\u001b[0m \u001b[0;34m'TX'\u001b[0m\u001b[0;34m:\u001b[0m \u001b[0;34m'Texas'\u001b[0m\u001b[0;34m,\u001b[0m \u001b[0;34m'SD'\u001b[0m\u001b[0;34m:\u001b[0m \u001b[0;34m'South Dakota'\u001b[0m\u001b[0;34m,\u001b[0m \u001b[0;34m'MP'\u001b[0m\u001b[0;34m:\u001b[0m \u001b[0;34m'Northern Mariana Islands'\u001b[0m\u001b[0;34m,\u001b[0m \u001b[0;34m'IA'\u001b[0m\u001b[0;34m:\u001b[0m \u001b[0;34m'Iowa'\u001b[0m\u001b[0;34m,\u001b[0m \u001b[0;34m'MO'\u001b[0m\u001b[0;34m:\u001b[0m \u001b[0;34m'Missouri'\u001b[0m\u001b[0;34m,\u001b[0m \u001b[0;34m'CT'\u001b[0m\u001b[0;34m:\u001b[0m \u001b[0;34m'Connecticut'\u001b[0m\u001b[0;34m,\u001b[0m \u001b[0;34m'WV'\u001b[0m\u001b[0;34m:\u001b[0m \u001b[0;34m'West Virginia'\u001b[0m\u001b[0;34m,\u001b[0m \u001b[0;34m'SC'\u001b[0m\u001b[0;34m:\u001b[0m \u001b[0;34m'South Carolina'\u001b[0m\u001b[0;34m,\u001b[0m \u001b[0;34m'LA'\u001b[0m\u001b[0;34m:\u001b[0m \u001b[0;34m'Louisiana'\u001b[0m\u001b[0;34m,\u001b[0m \u001b[0;34m'KS'\u001b[0m\u001b[0;34m:\u001b[0m \u001b[0;34m'Kansas'\u001b[0m\u001b[0;34m,\u001b[0m \u001b[0;34m'NY'\u001b[0m\u001b[0;34m:\u001b[0m \u001b[0;34m'New York'\u001b[0m\u001b[0;34m,\u001b[0m \u001b[0;34m'NE'\u001b[0m\u001b[0;34m:\u001b[0m \u001b[0;34m'Nebraska'\u001b[0m\u001b[0;34m,\u001b[0m \u001b[0;34m'OK'\u001b[0m\u001b[0;34m:\u001b[0m \u001b[0;34m'Oklahoma'\u001b[0m\u001b[0;34m,\u001b[0m \u001b[0;34m'FL'\u001b[0m\u001b[0;34m:\u001b[0m \u001b[0;34m'Florida'\u001b[0m\u001b[0;34m,\u001b[0m \u001b[0;34m'CA'\u001b[0m\u001b[0;34m:\u001b[0m \u001b[0;34m'California'\u001b[0m\u001b[0;34m,\u001b[0m \u001b[0;34m'CO'\u001b[0m\u001b[0;34m:\u001b[0m \u001b[0;34m'Colorado'\u001b[0m\u001b[0;34m,\u001b[0m \u001b[0;34m'PA'\u001b[0m\u001b[0;34m:\u001b[0m \u001b[0;34m'Pennsylvania'\u001b[0m\u001b[0;34m,\u001b[0m \u001b[0;34m'DE'\u001b[0m\u001b[0;34m:\u001b[0m \u001b[0;34m'Delaware'\u001b[0m\u001b[0;34m,\u001b[0m \u001b[0;34m'NM'\u001b[0m\u001b[0;34m:\u001b[0m \u001b[0;34m'New Mexico'\u001b[0m\u001b[0;34m,\u001b[0m \u001b[0;34m'RI'\u001b[0m\u001b[0;34m:\u001b[0m \u001b[0;34m'Rhode Island'\u001b[0m\u001b[0;34m,\u001b[0m \u001b[0;34m'MN'\u001b[0m\u001b[0;34m:\u001b[0m \u001b[0;34m'Minnesota'\u001b[0m\u001b[0;34m,\u001b[0m \u001b[0;34m'VI'\u001b[0m\u001b[0;34m:\u001b[0m \u001b[0;34m'Virgin Islands'\u001b[0m\u001b[0;34m,\u001b[0m \u001b[0;34m'NH'\u001b[0m\u001b[0;34m:\u001b[0m \u001b[0;34m'New Hampshire'\u001b[0m\u001b[0;34m,\u001b[0m \u001b[0;34m'MA'\u001b[0m\u001b[0;34m:\u001b[0m \u001b[0;34m'Massachusetts'\u001b[0m\u001b[0;34m,\u001b[0m \u001b[0;34m'GA'\u001b[0m\u001b[0;34m:\u001b[0m \u001b[0;34m'Georgia'\u001b[0m\u001b[0;34m,\u001b[0m \u001b[0;34m'ND'\u001b[0m\u001b[0;34m:\u001b[0m \u001b[0;34m'North Dakota'\u001b[0m\u001b[0;34m,\u001b[0m \u001b[0;34m'VA'\u001b[0m\u001b[0;34m:\u001b[0m \u001b[0;34m'Virginia'\u001b[0m\u001b[0;34m}\u001b[0m\u001b[0;34m\u001b[0m\u001b[0;34m\u001b[0m\u001b[0m\n\u001b[1;32m     14\u001b[0m     \u001b[0mfile\u001b[0m \u001b[0;34m=\u001b[0m \u001b[0;34m'City_Zhvi_AllHomes.csv'\u001b[0m\u001b[0;34m\u001b[0m\u001b[0;34m\u001b[0m\u001b[0m\n\u001b[0;32m---> 15\u001b[0;31m     \u001b[0mdf\u001b[0m   \u001b[0;34m=\u001b[0m \u001b[0mpd\u001b[0m\u001b[0;34m.\u001b[0m\u001b[0mread_csv\u001b[0m\u001b[0;34m(\u001b[0m\u001b[0mfile\u001b[0m\u001b[0;34m,\u001b[0m\u001b[0mheader\u001b[0m\u001b[0;34m=\u001b[0m\u001b[0;36m0\u001b[0m\u001b[0;34m)\u001b[0m\u001b[0;34m\u001b[0m\u001b[0;34m\u001b[0m\u001b[0m\n\u001b[0m\u001b[1;32m     16\u001b[0m     \u001b[0mdf\u001b[0m\u001b[0;34m[\u001b[0m\u001b[0;34m'State'\u001b[0m\u001b[0;34m]\u001b[0m\u001b[0;34m.\u001b[0m\u001b[0mreplace\u001b[0m\u001b[0;34m(\u001b[0m\u001b[0mstates\u001b[0m\u001b[0;34m,\u001b[0m \u001b[0minplace\u001b[0m\u001b[0;34m=\u001b[0m \u001b[0;32mTrue\u001b[0m\u001b[0;34m)\u001b[0m\u001b[0;34m\u001b[0m\u001b[0;34m\u001b[0m\u001b[0m\n\u001b[1;32m     17\u001b[0m     \u001b[0mdf\u001b[0m   \u001b[0;34m=\u001b[0m \u001b[0mdf\u001b[0m\u001b[0;34m.\u001b[0m\u001b[0mset_index\u001b[0m\u001b[0;34m(\u001b[0m\u001b[0;34m[\u001b[0m\u001b[0;34m'State'\u001b[0m\u001b[0;34m,\u001b[0m\u001b[0;34m'RegionName'\u001b[0m\u001b[0;34m]\u001b[0m\u001b[0;34m)\u001b[0m\u001b[0;34m\u001b[0m\u001b[0;34m\u001b[0m\u001b[0m\n",
      "\u001b[0;32m~/opt/anaconda3/lib/python3.7/site-packages/pandas/io/parsers.py\u001b[0m in \u001b[0;36mparser_f\u001b[0;34m(filepath_or_buffer, sep, delimiter, header, names, index_col, usecols, squeeze, prefix, mangle_dupe_cols, dtype, engine, converters, true_values, false_values, skipinitialspace, skiprows, skipfooter, nrows, na_values, keep_default_na, na_filter, verbose, skip_blank_lines, parse_dates, infer_datetime_format, keep_date_col, date_parser, dayfirst, cache_dates, iterator, chunksize, compression, thousands, decimal, lineterminator, quotechar, quoting, doublequote, escapechar, comment, encoding, dialect, error_bad_lines, warn_bad_lines, delim_whitespace, low_memory, memory_map, float_precision)\u001b[0m\n\u001b[1;32m    674\u001b[0m         )\n\u001b[1;32m    675\u001b[0m \u001b[0;34m\u001b[0m\u001b[0m\n\u001b[0;32m--> 676\u001b[0;31m         \u001b[0;32mreturn\u001b[0m \u001b[0m_read\u001b[0m\u001b[0;34m(\u001b[0m\u001b[0mfilepath_or_buffer\u001b[0m\u001b[0;34m,\u001b[0m \u001b[0mkwds\u001b[0m\u001b[0;34m)\u001b[0m\u001b[0;34m\u001b[0m\u001b[0;34m\u001b[0m\u001b[0m\n\u001b[0m\u001b[1;32m    677\u001b[0m \u001b[0;34m\u001b[0m\u001b[0m\n\u001b[1;32m    678\u001b[0m     \u001b[0mparser_f\u001b[0m\u001b[0;34m.\u001b[0m\u001b[0m__name__\u001b[0m \u001b[0;34m=\u001b[0m \u001b[0mname\u001b[0m\u001b[0;34m\u001b[0m\u001b[0;34m\u001b[0m\u001b[0m\n",
      "\u001b[0;32m~/opt/anaconda3/lib/python3.7/site-packages/pandas/io/parsers.py\u001b[0m in \u001b[0;36m_read\u001b[0;34m(filepath_or_buffer, kwds)\u001b[0m\n\u001b[1;32m    446\u001b[0m \u001b[0;34m\u001b[0m\u001b[0m\n\u001b[1;32m    447\u001b[0m     \u001b[0;31m# Create the parser.\u001b[0m\u001b[0;34m\u001b[0m\u001b[0;34m\u001b[0m\u001b[0;34m\u001b[0m\u001b[0m\n\u001b[0;32m--> 448\u001b[0;31m     \u001b[0mparser\u001b[0m \u001b[0;34m=\u001b[0m \u001b[0mTextFileReader\u001b[0m\u001b[0;34m(\u001b[0m\u001b[0mfp_or_buf\u001b[0m\u001b[0;34m,\u001b[0m \u001b[0;34m**\u001b[0m\u001b[0mkwds\u001b[0m\u001b[0;34m)\u001b[0m\u001b[0;34m\u001b[0m\u001b[0;34m\u001b[0m\u001b[0m\n\u001b[0m\u001b[1;32m    449\u001b[0m \u001b[0;34m\u001b[0m\u001b[0m\n\u001b[1;32m    450\u001b[0m     \u001b[0;32mif\u001b[0m \u001b[0mchunksize\u001b[0m \u001b[0;32mor\u001b[0m \u001b[0miterator\u001b[0m\u001b[0;34m:\u001b[0m\u001b[0;34m\u001b[0m\u001b[0;34m\u001b[0m\u001b[0m\n",
      "\u001b[0;32m~/opt/anaconda3/lib/python3.7/site-packages/pandas/io/parsers.py\u001b[0m in \u001b[0;36m__init__\u001b[0;34m(self, f, engine, **kwds)\u001b[0m\n\u001b[1;32m    878\u001b[0m             \u001b[0mself\u001b[0m\u001b[0;34m.\u001b[0m\u001b[0moptions\u001b[0m\u001b[0;34m[\u001b[0m\u001b[0;34m\"has_index_names\"\u001b[0m\u001b[0;34m]\u001b[0m \u001b[0;34m=\u001b[0m \u001b[0mkwds\u001b[0m\u001b[0;34m[\u001b[0m\u001b[0;34m\"has_index_names\"\u001b[0m\u001b[0;34m]\u001b[0m\u001b[0;34m\u001b[0m\u001b[0;34m\u001b[0m\u001b[0m\n\u001b[1;32m    879\u001b[0m \u001b[0;34m\u001b[0m\u001b[0m\n\u001b[0;32m--> 880\u001b[0;31m         \u001b[0mself\u001b[0m\u001b[0;34m.\u001b[0m\u001b[0m_make_engine\u001b[0m\u001b[0;34m(\u001b[0m\u001b[0mself\u001b[0m\u001b[0;34m.\u001b[0m\u001b[0mengine\u001b[0m\u001b[0;34m)\u001b[0m\u001b[0;34m\u001b[0m\u001b[0;34m\u001b[0m\u001b[0m\n\u001b[0m\u001b[1;32m    881\u001b[0m \u001b[0;34m\u001b[0m\u001b[0m\n\u001b[1;32m    882\u001b[0m     \u001b[0;32mdef\u001b[0m \u001b[0mclose\u001b[0m\u001b[0;34m(\u001b[0m\u001b[0mself\u001b[0m\u001b[0;34m)\u001b[0m\u001b[0;34m:\u001b[0m\u001b[0;34m\u001b[0m\u001b[0;34m\u001b[0m\u001b[0m\n",
      "\u001b[0;32m~/opt/anaconda3/lib/python3.7/site-packages/pandas/io/parsers.py\u001b[0m in \u001b[0;36m_make_engine\u001b[0;34m(self, engine)\u001b[0m\n\u001b[1;32m   1112\u001b[0m     \u001b[0;32mdef\u001b[0m \u001b[0m_make_engine\u001b[0m\u001b[0;34m(\u001b[0m\u001b[0mself\u001b[0m\u001b[0;34m,\u001b[0m \u001b[0mengine\u001b[0m\u001b[0;34m=\u001b[0m\u001b[0;34m\"c\"\u001b[0m\u001b[0;34m)\u001b[0m\u001b[0;34m:\u001b[0m\u001b[0;34m\u001b[0m\u001b[0;34m\u001b[0m\u001b[0m\n\u001b[1;32m   1113\u001b[0m         \u001b[0;32mif\u001b[0m \u001b[0mengine\u001b[0m \u001b[0;34m==\u001b[0m \u001b[0;34m\"c\"\u001b[0m\u001b[0;34m:\u001b[0m\u001b[0;34m\u001b[0m\u001b[0;34m\u001b[0m\u001b[0m\n\u001b[0;32m-> 1114\u001b[0;31m             \u001b[0mself\u001b[0m\u001b[0;34m.\u001b[0m\u001b[0m_engine\u001b[0m \u001b[0;34m=\u001b[0m \u001b[0mCParserWrapper\u001b[0m\u001b[0;34m(\u001b[0m\u001b[0mself\u001b[0m\u001b[0;34m.\u001b[0m\u001b[0mf\u001b[0m\u001b[0;34m,\u001b[0m \u001b[0;34m**\u001b[0m\u001b[0mself\u001b[0m\u001b[0;34m.\u001b[0m\u001b[0moptions\u001b[0m\u001b[0;34m)\u001b[0m\u001b[0;34m\u001b[0m\u001b[0;34m\u001b[0m\u001b[0m\n\u001b[0m\u001b[1;32m   1115\u001b[0m         \u001b[0;32melse\u001b[0m\u001b[0;34m:\u001b[0m\u001b[0;34m\u001b[0m\u001b[0;34m\u001b[0m\u001b[0m\n\u001b[1;32m   1116\u001b[0m             \u001b[0;32mif\u001b[0m \u001b[0mengine\u001b[0m \u001b[0;34m==\u001b[0m \u001b[0;34m\"python\"\u001b[0m\u001b[0;34m:\u001b[0m\u001b[0;34m\u001b[0m\u001b[0;34m\u001b[0m\u001b[0m\n",
      "\u001b[0;32m~/opt/anaconda3/lib/python3.7/site-packages/pandas/io/parsers.py\u001b[0m in \u001b[0;36m__init__\u001b[0;34m(self, src, **kwds)\u001b[0m\n\u001b[1;32m   1889\u001b[0m         \u001b[0mkwds\u001b[0m\u001b[0;34m[\u001b[0m\u001b[0;34m\"usecols\"\u001b[0m\u001b[0;34m]\u001b[0m \u001b[0;34m=\u001b[0m \u001b[0mself\u001b[0m\u001b[0;34m.\u001b[0m\u001b[0musecols\u001b[0m\u001b[0;34m\u001b[0m\u001b[0;34m\u001b[0m\u001b[0m\n\u001b[1;32m   1890\u001b[0m \u001b[0;34m\u001b[0m\u001b[0m\n\u001b[0;32m-> 1891\u001b[0;31m         \u001b[0mself\u001b[0m\u001b[0;34m.\u001b[0m\u001b[0m_reader\u001b[0m \u001b[0;34m=\u001b[0m \u001b[0mparsers\u001b[0m\u001b[0;34m.\u001b[0m\u001b[0mTextReader\u001b[0m\u001b[0;34m(\u001b[0m\u001b[0msrc\u001b[0m\u001b[0;34m,\u001b[0m \u001b[0;34m**\u001b[0m\u001b[0mkwds\u001b[0m\u001b[0;34m)\u001b[0m\u001b[0;34m\u001b[0m\u001b[0;34m\u001b[0m\u001b[0m\n\u001b[0m\u001b[1;32m   1892\u001b[0m         \u001b[0mself\u001b[0m\u001b[0;34m.\u001b[0m\u001b[0munnamed_cols\u001b[0m \u001b[0;34m=\u001b[0m \u001b[0mself\u001b[0m\u001b[0;34m.\u001b[0m\u001b[0m_reader\u001b[0m\u001b[0;34m.\u001b[0m\u001b[0munnamed_cols\u001b[0m\u001b[0;34m\u001b[0m\u001b[0;34m\u001b[0m\u001b[0m\n\u001b[1;32m   1893\u001b[0m \u001b[0;34m\u001b[0m\u001b[0m\n",
      "\u001b[0;32mpandas/_libs/parsers.pyx\u001b[0m in \u001b[0;36mpandas._libs.parsers.TextReader.__cinit__\u001b[0;34m()\u001b[0m\n",
      "\u001b[0;32mpandas/_libs/parsers.pyx\u001b[0m in \u001b[0;36mpandas._libs.parsers.TextReader._setup_parser_source\u001b[0;34m()\u001b[0m\n",
      "\u001b[0;31mFileNotFoundError\u001b[0m: [Errno 2] File City_Zhvi_AllHomes.csv does not exist: 'City_Zhvi_AllHomes.csv'"
     ]
    }
   ],
   "source": [
    "def convert_housing_data_to_quarters():\n",
    "    '''Converts the housing data to quarters and returns it as mean \n",
    "    values in a dataframe. This dataframe should be a dataframe with\n",
    "    columns for 2000q1 through 2016q3, and should have a multi-index\n",
    "    in the shape of [\"State\",\"RegionName\"].\n",
    "    \n",
    "    Note: Quarters are defined in the assignment description, they are\n",
    "    not arbitrary three month periods.\n",
    "    \n",
    "    The resulting dataframe should have 67 columns, and 10,730 rows.\n",
    "    '''\n",
    "    import pandas as pd\n",
    "    states = {'OH': 'Ohio', 'KY': 'Kentucky', 'AS': 'American Samoa', 'NV': 'Nevada', 'WY': 'Wyoming', 'NA': 'National', 'AL': 'Alabama', 'MD': 'Maryland', 'AK': 'Alaska', 'UT': 'Utah', 'OR': 'Oregon', 'MT': 'Montana', 'IL': 'Illinois', 'TN': 'Tennessee', 'DC': 'District of Columbia', 'VT': 'Vermont', 'ID': 'Idaho', 'AR': 'Arkansas', 'ME': 'Maine', 'WA': 'Washington', 'HI': 'Hawaii', 'WI': 'Wisconsin', 'MI': 'Michigan', 'IN': 'Indiana', 'NJ': 'New Jersey', 'AZ': 'Arizona', 'GU': 'Guam', 'MS': 'Mississippi', 'PR': 'Puerto Rico', 'NC': 'North Carolina', 'TX': 'Texas', 'SD': 'South Dakota', 'MP': 'Northern Mariana Islands', 'IA': 'Iowa', 'MO': 'Missouri', 'CT': 'Connecticut', 'WV': 'West Virginia', 'SC': 'South Carolina', 'LA': 'Louisiana', 'KS': 'Kansas', 'NY': 'New York', 'NE': 'Nebraska', 'OK': 'Oklahoma', 'FL': 'Florida', 'CA': 'California', 'CO': 'Colorado', 'PA': 'Pennsylvania', 'DE': 'Delaware', 'NM': 'New Mexico', 'RI': 'Rhode Island', 'MN': 'Minnesota', 'VI': 'Virgin Islands', 'NH': 'New Hampshire', 'MA': 'Massachusetts', 'GA': 'Georgia', 'ND': 'North Dakota', 'VA': 'Virginia'}\n",
    "    file = 'City_Zhvi_AllHomes.csv'\n",
    "    df   = pd.read_csv(file,header=0)\n",
    "    df['State'].replace(states, inplace= True)\n",
    "    df   = df.set_index(['State','RegionName'])\n",
    "    df   = df.drop(df.iloc[:,0:49], axis=1)\n",
    "    df   = df.groupby(pd.PeriodIndex(df.columns, freq = 'q'),axis=1).mean()\n",
    "    df   = df.sort_index()\n",
    "    return df\n",
    "convert_housing_data_to_quarters()"
   ]
  },
  {
   "cell_type": "code",
   "execution_count": 5,
   "metadata": {},
   "outputs": [
    {
     "data": {
      "text/plain": [
       "(True, 0.004325214853511201, 'university town')"
      ]
     },
     "execution_count": 5,
     "metadata": {},
     "output_type": "execute_result"
    }
   ],
   "source": [
    "def run_ttest():\n",
    "    '''First creates new data showing the decline or growth of housing prices\n",
    "    between the recession start and the recession bottom. Then runs a ttest\n",
    "    comparing the university town values to the non-university towns values, \n",
    "    return whether the alternative hypothesis (that the two groups are the same)\n",
    "    is true or not as well as the p-value of the confidence. \n",
    "    \n",
    "    Return the tuple (different, p, better) where different=True if the t-test is\n",
    "    True at a p<0.01 (we reject the null hypothesis), or different=False if \n",
    "    otherwise (we cannot reject the null hypothesis). The variable p should\n",
    "    be equal to the exact p value returned from scipy.stats.ttest_ind(). The\n",
    "    value for better should be either \"university town\" or \"non-university town\"\n",
    "    depending on which has a lower mean price ratio (which is equivilent to a\n",
    "    reduced market loss).'''\n",
    "    import pandas as pd\n",
    "    import numpy  as np\n",
    "    df1 = get_list_of_university_towns()\n",
    "    df4 = convert_housing_data_to_quarters() \n",
    "    df4['Ratio'] = df4['2008Q3'] - df4['2009Q2']\n",
    "    dfs = pd.merge(df4, df1, on=['State', 'RegionName'])\n",
    "    dfs['Town_Values'] = 1\n",
    "    df4 = pd.merge(df4, dfs, how='outer', on=['State','RegionName','Ratio'])\n",
    "    df4['Town_Values'] = df4['Town_Values'].fillna(0)\n",
    "    Hucieties =  df4[df4['Town_Values'] == 1]\n",
    "    Nonucities = df4[df4['Town_Values']== 0]\n",
    "    from scipy import stats\n",
    "    t,p   =  stats.ttest_ind(Hucieties['Ratio'].dropna(), Nonucities['Ratio'].dropna())\n",
    "    different = True if p < 0.01 else False\n",
    "    better    = 'university town' if Hucieties['Ratio'].mean() < Nonucities['Ratio'].mean() else 'non-university'\n",
    "    return different,p,better\n",
    "run_ttest()"
   ]
  }
 ],
 "metadata": {
  "coursera": {
   "course_slug": "python-data-analysis",
   "graded_item_id": "Il9Fx",
   "launcher_item_id": "TeDW0",
   "part_id": "WGlun"
  },
  "kernelspec": {
   "display_name": "Python 3",
   "language": "python",
   "name": "python3"
  },
  "language_info": {
   "codemirror_mode": {
    "name": "ipython",
    "version": 3
   },
   "file_extension": ".py",
   "mimetype": "text/x-python",
   "name": "python",
   "nbconvert_exporter": "python",
   "pygments_lexer": "ipython3",
   "version": "3.7.6"
  }
 },
 "nbformat": 4,
 "nbformat_minor": 1
}
